{
 "cells": [
  {
   "cell_type": "markdown",
   "id": "00b0f6cb",
   "metadata": {},
   "source": [
    "# ML Homework2 Question 6"
   ]
  },
  {
   "cell_type": "code",
   "execution_count": null,
   "id": "dbdb6622",
   "metadata": {},
   "outputs": [],
   "source": [
    "import math\n",
    "import random"
   ]
  },
  {
   "cell_type": "code",
   "execution_count": null,
   "id": "9531c7f6",
   "metadata": {},
   "outputs": [],
   "source": [
    "# Python program for the above approach\n",
    "\n",
    "PI = 3.141592653589;\n",
    " \n",
    "class pair:\n",
    " \n",
    "    def __init__(self, first, second):\n",
    "        self.first = first;\n",
    "        self.second = second;\n",
    " \n",
    "# Return a random between 0 & 1\n",
    "def uniform():\n",
    "    return random.random();\n",
    " \n",
    "# Function to find the N random points on\n",
    "# the given circle\n",
    "def randPoint(r, x, y, n):\n",
    "   \n",
    "    # Result vector\n",
    "    res = list();\n",
    " \n",
    "    for i in range(n):\n",
    "        # Get Angle in radians\n",
    "        theta = 2 * PI * uniform();\n",
    " \n",
    "        # Get length from center\n",
    "        len = math.sqrt(uniform()) * r;\n",
    " \n",
    "        # Add point to results.\n",
    "        res.append(pair((x + len * math.cos(theta)), (y + len * math.sin(theta))));\n",
    " \n",
    "    # Return the N points\n",
    "    return res;\n",
    " \n",
    "# Function to display the content of\n",
    "# the vector A\n",
    "def printVector(A):\n",
    " \n",
    "    # Iterate over A\n",
    "    for P in A:\n",
    "        # Print the N random points stored\n",
    "        print(\"({0:.2f}\".format(P.first),\", \",\"{0:.2f})\".format(P.second));\n",
    " \n",
    "# Driver Code\n",
    "if __name__ == '__main__':\n",
    "    # Given dimensions\n",
    "    R = 12;\n",
    "    X = 3;\n",
    "    Y = 3;\n",
    "    N = 5;\n",
    " \n",
    "    # Function call\n",
    "    printVector(randPoint(R, X, Y, N));\n",
    " \n",
    "# This code is contributed by 29AjayKumar"
   ]
  }
 ],
 "metadata": {
  "kernelspec": {
   "display_name": "Python 3 (ipykernel)",
   "language": "python",
   "name": "python3"
  },
  "language_info": {
   "codemirror_mode": {
    "name": "ipython",
    "version": 3
   },
   "file_extension": ".py",
   "mimetype": "text/x-python",
   "name": "python",
   "nbconvert_exporter": "python",
   "pygments_lexer": "ipython3",
   "version": "3.9.7"
  },
  "toc": {
   "base_numbering": 1,
   "nav_menu": {},
   "number_sections": true,
   "sideBar": true,
   "skip_h1_title": false,
   "title_cell": "Table of Contents",
   "title_sidebar": "Contents",
   "toc_cell": false,
   "toc_position": {},
   "toc_section_display": true,
   "toc_window_display": false
  }
 },
 "nbformat": 4,
 "nbformat_minor": 5
}
