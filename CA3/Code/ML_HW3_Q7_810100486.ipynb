{
 "cells": [
  {
   "cell_type": "code",
   "execution_count": 2,
   "id": "87c4d8a3",
   "metadata": {},
   "outputs": [],
   "source": [
    "# Make a prediction with weights\n",
    "def predict(row, weights):\n",
    "\tactivation = weights[0]\n",
    "\tfor i in range(len(row)-1):\n",
    "\t\tactivation += weights[i + 1] * row[i]\n",
    "\treturn 1.0 if activation >= 0.0 else 0.0"
   ]
  },
  {
   "cell_type": "code",
   "execution_count": 3,
   "id": "b2eee8f7",
   "metadata": {},
   "outputs": [],
   "source": [
    "# Estimate Perceptron weights using stochastic gradient descent\n",
    "def train_weights(train, l_rate, n_epoch):\n",
    "\tweights = [0.0 for i in range(len(train[0]))]\n",
    "\tfor epoch in range(n_epoch):\n",
    "\t\tsum_error = 0.0\n",
    "\t\tfor row in train:\n",
    "\t\t\tprediction = predict(row, weights)\n",
    "\t\t\terror = row[-1] - prediction\n",
    "\t\t\tsum_error += error**2\n",
    "\t\t\tweights[0] = weights[0] + l_rate * error\n",
    "\t\t\tfor i in range(len(row)-1):\n",
    "\t\t\t\tweights[i + 1] = weights[i + 1] + l_rate * error * row[i]\n",
    "\t\tprint('>epoch=%d, lrate=%.3f, error=%.3f' % (epoch, l_rate, sum_error))\n",
    "\treturn weights"
   ]
  },
  {
   "cell_type": "code",
   "execution_count": 11,
   "id": "a2f7a449",
   "metadata": {},
   "outputs": [
    {
     "name": "stdout",
     "output_type": "stream",
     "text": [
      ">epoch=0, lrate=0.100, error=2.000\n",
      ">epoch=1, lrate=0.100, error=4.000\n",
      ">epoch=2, lrate=0.100, error=4.000\n",
      ">epoch=3, lrate=0.100, error=3.000\n",
      ">epoch=4, lrate=0.100, error=2.000\n",
      ">epoch=5, lrate=0.100, error=2.000\n",
      ">epoch=6, lrate=0.100, error=2.000\n",
      ">epoch=7, lrate=0.100, error=2.000\n",
      ">epoch=8, lrate=0.100, error=2.000\n",
      ">epoch=9, lrate=0.100, error=2.000\n",
      "[-0.30000000000000004, 0.15, 0.1]\n",
      "Expected=0, Predicted=0\n",
      "Expected=0, Predicted=0\n",
      "Expected=0, Predicted=0\n",
      "Expected=0, Predicted=1\n",
      "Expected=0, Predicted=0\n",
      "Expected=0, Predicted=0\n",
      "Expected=1, Predicted=0\n",
      "Expected=1, Predicted=1\n",
      "Expected=1, Predicted=1\n"
     ]
    }
   ],
   "source": [
    "# Calculate weights\n",
    "dataset = [[0,0,0],\n",
    "\t[1,1,0],\n",
    "\t[1,-1,0],\n",
    "\t[2,2,0],\n",
    "\t[2,-2,0],\n",
    "\t[3,-3,0],\n",
    "\t[2,0,1],\n",
    "\t[2.5,0,1],\n",
    "\t[3,0,1]]\n",
    "l_rate = 0.1\n",
    "n_epoch = 10\n",
    "weights = train_weights(dataset, l_rate, n_epoch)\n",
    "print(weights)\n",
    "\n",
    "for row in dataset:\n",
    "\tprediction = predict(row, weights)\n",
    "\tprint(\"Expected=%d, Predicted=%d\" % (row[-1], prediction))"
   ]
  },
  {
   "cell_type": "code",
   "execution_count": null,
   "id": "34dfca53",
   "metadata": {},
   "outputs": [],
   "source": []
  }
 ],
 "metadata": {
  "kernelspec": {
   "display_name": "Python 3 (ipykernel)",
   "language": "python",
   "name": "python3"
  },
  "language_info": {
   "codemirror_mode": {
    "name": "ipython",
    "version": 3
   },
   "file_extension": ".py",
   "mimetype": "text/x-python",
   "name": "python",
   "nbconvert_exporter": "python",
   "pygments_lexer": "ipython3",
   "version": "3.9.7"
  },
  "toc": {
   "base_numbering": 1,
   "nav_menu": {},
   "number_sections": true,
   "sideBar": true,
   "skip_h1_title": false,
   "title_cell": "Table of Contents",
   "title_sidebar": "Contents",
   "toc_cell": false,
   "toc_position": {},
   "toc_section_display": true,
   "toc_window_display": false
  }
 },
 "nbformat": 4,
 "nbformat_minor": 5
}
